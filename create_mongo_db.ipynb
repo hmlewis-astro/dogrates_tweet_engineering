{
 "cells": [
  {
   "cell_type": "code",
   "execution_count": null,
   "id": "c10a5b35",
   "metadata": {},
   "outputs": [],
   "source": [
    "import os\n",
    "import json\n",
    "\n",
    "from pymongo import MongoClient\n",
    "\n",
    "client = MongoClient()\n"
   ]
  },
  {
   "cell_type": "code",
   "execution_count": null,
   "id": "9f50c939",
   "metadata": {},
   "outputs": [],
   "source": [
    "handle = 'dog_rates'\n",
    "outfile = handle + '.json'\n"
   ]
  },
  {
   "cell_type": "code",
   "execution_count": null,
   "id": "59a46890",
   "metadata": {},
   "outputs": [],
   "source": [
    "if f'{handle}_images' in client.list_database_names():\n",
    "    client.drop_database(f'{handle}_images')\n",
    "    "
   ]
  },
  {
   "cell_type": "code",
   "execution_count": null,
   "id": "359902db",
   "metadata": {},
   "outputs": [],
   "source": [
    "existing_tweets = json.load(open(outfile, 'r'))\n"
   ]
  },
  {
   "cell_type": "code",
   "execution_count": null,
   "id": "d3ea5203",
   "metadata": {},
   "outputs": [],
   "source": [
    "db = client[f'{handle}_images']\n",
    "\n",
    "tweets = db.tweets\n",
    "tweets.insert_many(existing_tweets);\n"
   ]
  },
  {
   "cell_type": "code",
   "execution_count": null,
   "id": "f523c780",
   "metadata": {},
   "outputs": [],
   "source": [
    "tweet_media = []\n",
    "for j,tweet in enumerate(tweets.find()):\n",
    "    media_dict = {'tweet_id':tweet['id']}\n",
    "    \n",
    "    for i,med in enumerate(tweet['extended_entities']['media']):\n",
    "        media_dict[f'media_{i}'] = {'url':med['media_url_https']}\n",
    "\n",
    "    tweet_media.append(media_dict)\n"
   ]
  },
  {
   "cell_type": "code",
   "execution_count": null,
   "id": "4119932f",
   "metadata": {},
   "outputs": [],
   "source": [
    "media = db.media\n",
    "media.insert_many(tweet_media);\n"
   ]
  },
  {
   "cell_type": "code",
   "execution_count": null,
   "id": "f00b4c6f",
   "metadata": {},
   "outputs": [],
   "source": []
  }
 ],
 "metadata": {
  "kernelspec": {
   "display_name": "Python 3",
   "language": "python",
   "name": "python3"
  },
  "language_info": {
   "codemirror_mode": {
    "name": "ipython",
    "version": 3
   },
   "file_extension": ".py",
   "mimetype": "text/x-python",
   "name": "python",
   "nbconvert_exporter": "python",
   "pygments_lexer": "ipython3",
   "version": "3.7.7"
  }
 },
 "nbformat": 4,
 "nbformat_minor": 5
}
