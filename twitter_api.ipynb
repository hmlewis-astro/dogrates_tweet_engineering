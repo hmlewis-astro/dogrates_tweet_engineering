{
 "cells": [
  {
   "cell_type": "code",
   "execution_count": null,
   "id": "ea7c6ecd",
   "metadata": {},
   "outputs": [],
   "source": [
    "import os\n",
    "import json\n",
    "from tqdm import tqdm\n",
    "\n",
    "from twitter_api_key import key\n",
    "\n",
    "import tweepy\n",
    "\n",
    "import pandas as pd\n"
   ]
  },
  {
   "cell_type": "code",
   "execution_count": null,
   "id": "f2c02beb",
   "metadata": {},
   "outputs": [],
   "source": [
    "consumer_key = key[\"consumer_key\"]\n",
    "consumer_secret = key[\"consumer_secret\"]\n",
    "access_token = key[\"access_token\"]\n",
    "access_token_secret = key[\"access_token_secret\"]\n"
   ]
  },
  {
   "cell_type": "code",
   "execution_count": null,
   "id": "0fa211f5",
   "metadata": {},
   "outputs": [],
   "source": [
    "auth = tweepy.OAuthHandler(consumer_key, consumer_secret)\n",
    "auth.set_access_token(access_token, access_token_secret)\n",
    "api = tweepy.API(auth, wait_on_rate_limit=True)\n"
   ]
  },
  {
   "cell_type": "code",
   "execution_count": null,
   "id": "560a90a3",
   "metadata": {},
   "outputs": [],
   "source": [
    "handle = 'dog_rates'\n",
    "outfile = handle + '.json'\n"
   ]
  },
  {
   "cell_type": "code",
   "execution_count": null,
   "id": "b846c152",
   "metadata": {},
   "outputs": [],
   "source": [
    "def retrieve_existing(outfile):\n",
    "    existing_tweets = dict()\n",
    "    if os.path.exists(outfile):\n",
    "        with open(outfile) as out:\n",
    "            existing_tweets = pd.read_json(out)\n",
    "\n",
    "    return existing_tweets\n"
   ]
  },
  {
   "cell_type": "code",
   "execution_count": null,
   "id": "8df066c6",
   "metadata": {},
   "outputs": [],
   "source": [
    "cols_to_drop = ['id_str', 'truncated', 'favorited', 'retweeted']\n",
    "\n",
    "if os.path.exists(outfile):\n",
    "    existing_tweets = retrieve_existing(outfile)\n",
    "    try:\n",
    "        existing_tweets.drop(cols_to_drop, axis=1, inplace=True)\n",
    "        existing_tweets['created_at'] = pd.to_datetime(existing_tweets['created_at'])\n",
    "    except:\n",
    "        pass\n",
    "        \n",
    "    max_api_calls = 900\n",
    "    \n",
    "    cursor = tweepy.Cursor(api.user_timeline, \n",
    "                           id=handle\n",
    "                           ).items(max_api_calls)\n",
    "    \n",
    "else:\n",
    "    existing_tweets = []\n",
    "    max_api_calls = 3200\n",
    "    \n",
    "    cursor = tweepy.Cursor(api.user_timeline, \n",
    "                           id=handle\n",
    "                           ).items()\n"
   ]
  },
  {
   "cell_type": "code",
   "execution_count": null,
   "id": "48931bee",
   "metadata": {},
   "outputs": [],
   "source": [
    "new_tweets = []\n",
    "\n",
    "for tweet in tqdm(cursor, total=max_api_calls):\n",
    "    status = api.get_status(tweet._json['id'], tweet_mode='extended')\n",
    "    if ('media' in status._json['entities']) and ('/10' in status._json['full_text']):\n",
    "        new_tweets.append(status._json)\n"
   ]
  },
  {
   "cell_type": "code",
   "execution_count": null,
   "id": "f3a37f9e",
   "metadata": {},
   "outputs": [],
   "source": [
    "new_tweets = pd.DataFrame(new_tweets)\n"
   ]
  },
  {
   "cell_type": "code",
   "execution_count": null,
   "id": "1c10ba17",
   "metadata": {},
   "outputs": [],
   "source": [
    "new_tweets.drop(cols_to_drop, axis=1, inplace=True)\n",
    "new_tweets['created_at'] = pd.to_datetime(new_tweets['created_at'])\n"
   ]
  },
  {
   "cell_type": "code",
   "execution_count": null,
   "id": "33644e1f",
   "metadata": {},
   "outputs": [],
   "source": [
    "for i,tweet in new_tweets.iterrows():\n",
    "    if tweet['id'] in list(existing_tweets['id']):\n",
    "        existing_tweets.loc[existing_tweets['id'] == tweet['id'], ['favorite_count']] = tweet['favorite_count']\n",
    "        existing_tweets.loc[existing_tweets['id'] == tweet['id'], ['retweet_count']] = tweet['retweet_count']\n",
    "\n",
    "    else:\n",
    "        existing_tweets = existing_tweets.append(tweet, ignore_index=True)\n",
    "        existing_tweets.sort_values('id', ascending=False, inplace=True)\n",
    "        existing_tweets.reset_index(drop=True)\n",
    "        "
   ]
  },
  {
   "cell_type": "code",
   "execution_count": null,
   "id": "bc563277",
   "metadata": {},
   "outputs": [],
   "source": [
    "with open(outfile, 'w') as out:\n",
    "    existing_tweets.to_json(out, date_format='iso', orient='records')\n",
    "    "
   ]
  },
  {
   "cell_type": "code",
   "execution_count": null,
   "id": "dd89d27c",
   "metadata": {},
   "outputs": [],
   "source": []
  }
 ],
 "metadata": {
  "kernelspec": {
   "display_name": "Python [conda env:metis] *",
   "language": "python",
   "name": "conda-env-metis-py"
  },
  "language_info": {
   "codemirror_mode": {
    "name": "ipython",
    "version": 3
   },
   "file_extension": ".py",
   "mimetype": "text/x-python",
   "name": "python",
   "nbconvert_exporter": "python",
   "pygments_lexer": "ipython3",
   "version": "3.8.10"
  }
 },
 "nbformat": 4,
 "nbformat_minor": 5
}
