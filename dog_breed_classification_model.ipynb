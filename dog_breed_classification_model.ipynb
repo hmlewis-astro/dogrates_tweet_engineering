{
  "nbformat": 4,
  "nbformat_minor": 0,
  "metadata": {
    "colab": {
      "name": "dog_breed_classification_model.ipynb",
      "provenance": [],
      "collapsed_sections": [],
      "authorship_tag": "ABX9TyMIpkc+7IpfaFiXJ1ppS0nt",
      "include_colab_link": true
    },
    "kernelspec": {
      "name": "python3",
      "display_name": "Python 3"
    },
    "language_info": {
      "name": "python"
    },
    "accelerator": "GPU"
  },
  "cells": [
    {
      "cell_type": "markdown",
      "metadata": {
        "id": "view-in-github",
        "colab_type": "text"
      },
      "source": [
        "<a href=\"https://colab.research.google.com/github/hmlewis-astro/dogrates_tweet_engineering/blob/main/dog_breed_classification_model.ipynb\" target=\"_parent\"><img src=\"https://colab.research.google.com/assets/colab-badge.svg\" alt=\"Open In Colab\"/></a>"
      ]
    },
    {
      "cell_type": "markdown",
      "metadata": {
        "id": "ZUNkdMZvSJt9"
      },
      "source": [
        "# Change to GPU runtime\n",
        "\n",
        "#### Navigate to \"Runtime > Change runtime type > GPU > Save\"\n"
      ]
    },
    {
      "cell_type": "markdown",
      "metadata": {
        "id": "JzyBdGiLT_lt"
      },
      "source": [
        "# Mount Google Drive\n"
      ]
    },
    {
      "cell_type": "code",
      "metadata": {
        "id": "StK3R9gOe1eU"
      },
      "source": [
        "from google.colab import drive\n",
        "drive.mount('/content/drive')\n"
      ],
      "execution_count": null,
      "outputs": []
    },
    {
      "cell_type": "code",
      "metadata": {
        "id": "GhNiWjFel7rZ"
      },
      "source": [
        "from google.colab import files\n"
      ],
      "execution_count": null,
      "outputs": []
    },
    {
      "cell_type": "markdown",
      "metadata": {
        "id": "HFTt4XZy-zZ5"
      },
      "source": [
        "# Name this model run"
      ]
    },
    {
      "cell_type": "code",
      "metadata": {
        "id": "Si8E6Njx-uRV"
      },
      "source": [
        "run_name = str(input('Name of model run (e.g. base_model, tuned_model_a, etc.): '))"
      ],
      "execution_count": null,
      "outputs": []
    },
    {
      "cell_type": "markdown",
      "metadata": {
        "id": "WeKBuQAji7ys"
      },
      "source": [
        "# Import packages and libraries"
      ]
    },
    {
      "cell_type": "code",
      "metadata": {
        "id": "TfelzqyUNbqf"
      },
      "source": [
        "import os\n",
        "import glob\n",
        "import random\n",
        "from tqdm import tqdm\n",
        "import pickle\n",
        "\n",
        "import pandas as pd\n",
        "import numpy as np\n",
        "import matplotlib.pyplot as plt\n",
        "\n",
        "import cv2\n",
        "\n",
        "import tensorflow as tf\n",
        "print(tf.__version__)\n",
        "\n",
        "from tensorflow.keras import layers, models\n",
        "from tensorflow.keras.preprocessing.image import ImageDataGenerator\n",
        "\n",
        "import tensorflow_datasets as tfds\n",
        "\n",
        "import tensorflow.keras.backend as K\n"
      ],
      "execution_count": null,
      "outputs": []
    },
    {
      "cell_type": "code",
      "metadata": {
        "id": "d1BzwK9VN70h"
      },
      "source": [
        "gpu_info = !nvidia-smi\n",
        "gpu_info = '\\n'.join(gpu_info)\n",
        "if gpu_info.find('failed') >= 0:\n",
        "  print('Not connected to a GPU')\n",
        "else:\n",
        "  print('Found GPU at: \\n{}'.format(gpu_info))\n"
      ],
      "execution_count": null,
      "outputs": []
    },
    {
      "cell_type": "code",
      "metadata": {
        "id": "z8GOUner-pBD"
      },
      "source": [
        "from psutil import virtual_memory\n",
        "ram_gb = virtual_memory().total / 1e9\n",
        "print('Your runtime has {:.1f} gigabytes of available RAM\\n'.format(ram_gb))\n",
        "\n",
        "if ram_gb < 20:\n",
        "  print('Not using a high-RAM runtime')\n",
        "else:\n",
        "  print('You are using a high-RAM runtime!')\n",
        "  "
      ],
      "execution_count": null,
      "outputs": []
    },
    {
      "cell_type": "markdown",
      "metadata": {
        "id": "DMe7QhZhjGAs"
      },
      "source": [
        "# Get train/val data"
      ]
    },
    {
      "cell_type": "code",
      "metadata": {
        "id": "t_Pr_LTdMgvp"
      },
      "source": [
        "dataset, info = tfds.load(name='stanford_dogs', with_info=True, shuffle_files=True)\n"
      ],
      "execution_count": null,
      "outputs": []
    },
    {
      "cell_type": "code",
      "metadata": {
        "id": "KSBju3I3MkHR"
      },
      "source": [
        "# convert label indices to breed names \n",
        "breed_name = info.features['label'].int2str\n"
      ],
      "execution_count": null,
      "outputs": []
    },
    {
      "cell_type": "code",
      "metadata": {
        "id": "6ut9MddPdlbA"
      },
      "source": [
        "image_size = 224\n",
        "image_shape = (image_size, image_size, 3)\n",
        "num_breeds = 120\n"
      ],
      "execution_count": null,
      "outputs": []
    },
    {
      "cell_type": "code",
      "metadata": {
        "id": "MSqdHTT-jFuR"
      },
      "source": [
        "val_frac = 0.5\n",
        "val_size = int(val_frac*len(dataset['test']))\n",
        "\n",
        "training_data = dataset['train']\n",
        "\n",
        "dataset_test = dataset['test'].shuffle(buffer_size=10000)\n",
        "valid_data = dataset_test.take(val_size)\n",
        "test_data = dataset_test.skip(val_size)\n"
      ],
      "execution_count": null,
      "outputs": []
    },
    {
      "cell_type": "code",
      "metadata": {
        "id": "hkrEq7CRNyTA"
      },
      "source": [
        "def preprocess(dat):\n",
        "  \n",
        "    # convert images to floats, resize for ImageNet\n",
        "    image = tf.image.convert_image_dtype(dat['image'], dtype=tf.float64)\n",
        "    image = tf.image.resize(image, (image_size, image_size), method='nearest')\n",
        "\n",
        "    # OHE labels\n",
        "    label = tf.one_hot(dat['label'], num_breeds)\n",
        "\n",
        "    return image, label\n"
      ],
      "execution_count": null,
      "outputs": []
    },
    {
      "cell_type": "code",
      "metadata": {
        "id": "rBO6g2rOONMR"
      },
      "source": [
        "def prepare(dataset, batch_size=None):\n",
        "\n",
        "    # call images into RAM in batches\n",
        "    dat = dataset.map(preprocess, num_parallel_calls=4)\n",
        "    dat = dat.shuffle(buffer_size=1000)\n",
        "\n",
        "    if batch_size:\n",
        "      dat = dat.batch(batch_size)\n",
        "\n",
        "    return dat\n"
      ],
      "execution_count": null,
      "outputs": []
    },
    {
      "cell_type": "markdown",
      "metadata": {
        "id": "YVPQBzSXstnb"
      },
      "source": [
        "# Display some sample dog pictures and corresponding breed labels"
      ]
    },
    {
      "cell_type": "code",
      "metadata": {
        "id": "TQqJHuHUMxZl"
      },
      "source": [
        "for dog in training_data.take(5):\n",
        "    plt.figure()\n",
        "    plt.imshow(dog['image'])\n",
        "    plt.title(breed_name(dog['label']))\n"
      ],
      "execution_count": null,
      "outputs": []
    },
    {
      "cell_type": "markdown",
      "metadata": {
        "id": "269v-gdzs1PW"
      },
      "source": [
        "# Define base model architecture"
      ]
    },
    {
      "cell_type": "code",
      "metadata": {
        "id": "KCIcIY_0PXd1"
      },
      "source": [
        "tf.keras.backend.clear_session()\n",
        "\n",
        "#base_model = tf.keras.applications.ResNet50(input_shape=image_shape,\n",
        "base_model = tf.keras.applications.MobileNetV2(input_shape=image_shape,\n",
        "                                               include_top=False,\n",
        "                                               weights='imagenet')\n",
        "\n",
        "base_model.trainable = False\n",
        "\n",
        "# adding regularization\n",
        "regularizer = tf.keras.regularizers.l1_l2(l1=0.05, l2=0.05)\n",
        "\n",
        "for layer in base_model.layers:\n",
        "    for attr in ['kernel_regularizer']:\n",
        "        if hasattr(layer, attr):\n",
        "          setattr(layer, attr, regularizer)\n"
      ],
      "execution_count": null,
      "outputs": []
    },
    {
      "cell_type": "code",
      "metadata": {
        "id": "RXvJQxeO_SrW"
      },
      "source": [
        "#base_model.summary()"
      ],
      "execution_count": null,
      "outputs": []
    },
    {
      "cell_type": "markdown",
      "metadata": {
        "id": "sZHijg1Gs9XA"
      },
      "source": [
        "# Define callbacks, load existing model (if exists), train model"
      ]
    },
    {
      "cell_type": "code",
      "metadata": {
        "id": "r5dNYUrVd6J1"
      },
      "source": [
        "dropout = 0.50\n",
        "\n",
        "callbacks = [tf.keras.callbacks.EarlyStopping(monitor='val_loss', \n",
        "                                              patience=8, verbose=1, \n",
        "                                              restore_best_weights=True),\n",
        "             tf.keras.callbacks.ReduceLROnPlateau(monitor='val_loss', \n",
        "                                                  factor=0.5, patience=3,\n",
        "                                                  verbose=1)]\n",
        "\n",
        "print(callbacks)\n",
        "\n",
        "if run_name == 'final_model':\n",
        "    callbacks.append(tf.keras.callbacks.CSVLogger('/content/drive/MyDrive/dog_breed_classifier_epoch_history.csv',\n",
        "                                                   append=True))\n",
        "    callbacks.append(tf.keras.callbacks.ModelCheckpoint('/content/drive/MyDrive/dog_breed_classifier.h5', \n",
        "                                                         save_best_only=True, save_freq='epoch'))\n",
        "\n",
        "    print(callbacks)\n",
        "\n",
        "if os.path.exists('/content/drive/MyDrive/dog_breed_classifier.h5'):\n",
        "    print('Loading previously trained model.')\n",
        "    model = models.load_model('/content/drive/MyDrive/dog_breed_classifier.h5')\n",
        "\n",
        "else:\n",
        "    print('Compiling new model.')\n",
        "    model = tf.keras.Sequential([\n",
        "                                 base_model,\n",
        "                                 layers.BatchNormalization(),\n",
        "                                 #layers.GlobalAveragePooling2D(),\n",
        "                                 layers.GlobalMaxPool2D(),\n",
        "                                 layers.Dropout(dropout),\n",
        "                                 #layers.Flatten(),\n",
        "                                 layers.Dense(320, activation='relu'),\n",
        "                                 layers.Dropout(dropout),\n",
        "                                 layers.Dense(num_breeds, activation='softmax')\n",
        "                                 ])\n",
        "\n",
        "    model.compile(optimizer=tf.keras.optimizers.Adamax(learning_rate=0.001),\n",
        "                  #optimizer=tf.keras.optimizers.SGD(learning_rate=0.001),\n",
        "                  #optimizer=tf.keras.optimizers.RMSprop(),\n",
        "                  #optimizer=tf.keras.optimizers.Adam(learning_rate=0.001),\n",
        "                  loss='categorical_crossentropy',\n",
        "                  metrics=[tf.keras.metrics.Precision(name='precision'),\n",
        "                           tf.keras.metrics.Recall(name='recall'),\n",
        "                           'accuracy',\n",
        "                           tf.keras.metrics.TopKCategoricalAccuracy(k=3),\n",
        "                           ])\n"
      ],
      "execution_count": null,
      "outputs": []
    },
    {
      "cell_type": "code",
      "metadata": {
        "id": "KIqCxDbqd6Gg"
      },
      "source": [
        "model.summary()\n"
      ],
      "execution_count": null,
      "outputs": []
    },
    {
      "cell_type": "code",
      "metadata": {
        "id": "Gd2tkYbJd6CF"
      },
      "source": [
        "tf.keras.utils.plot_model(model, to_file=f'{run_name}_architecture.png', \n",
        "                          show_shapes=True, show_layer_names=True)\n",
        "\n",
        "if run_name == 'final_model':\n",
        "    files.download('final_model_architecture.png')\n",
        "\n"
      ],
      "execution_count": null,
      "outputs": []
    },
    {
      "cell_type": "code",
      "metadata": {
        "id": "5o6krZmpS8Wf"
      },
      "source": [
        "!pip install visualkeras"
      ],
      "execution_count": null,
      "outputs": []
    },
    {
      "cell_type": "code",
      "metadata": {
        "id": "PyRu_17cS9F4"
      },
      "source": [
        "import visualkeras\n",
        "\n",
        "from PIL import ImageFont\n"
      ],
      "execution_count": null,
      "outputs": []
    },
    {
      "cell_type": "code",
      "metadata": {
        "id": "F9LA3rHVS_xh"
      },
      "source": [
        "font = ImageFont.truetype('/usr/share/fonts/truetype/LiberationMono-Regular.ttf', 28) \n",
        "\n",
        "if run_name == 'final_model':\n",
        "    visualkeras.layered_view(model, \n",
        "                            font=font,\n",
        "                            legend=True,\n",
        "                            to_file='final_model_architecture_visualkeras.png')\n",
        "\n",
        "    files.download('final_model_architecture_visualkeras.png')\n"
      ],
      "execution_count": null,
      "outputs": []
    },
    {
      "cell_type": "code",
      "metadata": {
        "id": "kFDASbIrd58t"
      },
      "source": [
        "epochs = 250\n",
        "\n",
        "train_batches = prepare(training_data, batch_size=64)\n",
        "valid_batches = prepare(valid_data, batch_size=64)\n",
        "\n",
        "history = model.fit(train_batches,\n",
        "                    epochs=epochs,\n",
        "                    validation_data=valid_batches,\n",
        "                    callbacks=callbacks,\n",
        "                    #shuffle=True,\n",
        "                    verbose=1)\n"
      ],
      "execution_count": null,
      "outputs": []
    },
    {
      "cell_type": "markdown",
      "metadata": {
        "id": "H6hhVeEXtbhw"
      },
      "source": [
        "# Plot metric vs. epoch"
      ]
    },
    {
      "cell_type": "code",
      "metadata": {
        "id": "9ynpsQ1dmB1-"
      },
      "source": [
        "def plot_history(history, metric, save_fig=False):\n",
        "    plt.plot(history.history[f'{metric}'], lw=3.0, color='dodgerblue')\n",
        "    \n",
        "    if metric != 'lr':\n",
        "        plt.plot(history.history[f'val_{metric}'], lw=3.0, ls='--', color='deeppink')\n",
        "    \n",
        "    if metric == 'accuracy':\n",
        "        metric_str = 'Accuracy'\n",
        "        #plt.ylim(0.9, 1.0)\n",
        "        \n",
        "    elif metric == 'loss':\n",
        "        metric_str = 'Loss'\n",
        "        #plt.ylim(0.05, 0.35)\n",
        "        \n",
        "    elif metric == 'lr':\n",
        "        metric_str = 'Learning Rate'\n",
        "        \n",
        "    elif metric == 'recall':\n",
        "        metric_str = 'Recall'\n",
        "        \n",
        "    elif metric == 'precision':\n",
        "        metric_str = 'Precision'\n",
        "\n",
        "    elif metric == 'top_k_categorical_accuracy':\n",
        "        metric_str = r'Top $k$ Categorical Accuracy'\n",
        "        #plt.ylim(0.05, 0.35)\n",
        "        \n",
        "    else:\n",
        "        matric_str = 'Metric'\n",
        "        plt.ylim(0.1, 1.0)\n",
        "\n",
        "    plt.title(f'{metric_str} v. Epoch')\n",
        "    plt.xlabel('Epoch')\n",
        "    \n",
        "    plt.ylabel(f'{metric_str}')\n",
        "    plt.legend(['Train','Validation'])\n",
        "\n",
        "    plt.tight_layout()\n",
        "\n",
        "    if save_fig:\n",
        "        plt.savefig(f'{metric}_v_epoch_final_model.png', dpi=200)\n",
        "        files.download(f'{metric}_v_epoch_final_model.png')\n",
        "\n",
        "    plt.close()\n"
      ],
      "execution_count": null,
      "outputs": []
    },
    {
      "cell_type": "code",
      "metadata": {
        "id": "l28hbObane9q"
      },
      "source": [
        "metric_list = ['loss', 'precision', 'recall', 'accuracy', 'top_k_categorical_accuracy']\n",
        "\n",
        "if run_name == 'final_model':\n",
        "    save_final = True\n",
        "else:\n",
        "    save_final = False\n",
        "\n",
        "for metric in metric_list:\n",
        "    plot_history(history, metric, save_fig=save_final)\n"
      ],
      "execution_count": null,
      "outputs": []
    },
    {
      "cell_type": "code",
      "metadata": {
        "id": "0jYiMQ0j5Yc9"
      },
      "source": [
        "results = model.evaluate(prepare(test_data, batch_size=64))\n",
        "\n",
        "print('\\n')\n",
        "for i,metric in enumerate(metric_list):\n",
        "  print(f'test {metric}:', results[i])"
      ],
      "execution_count": null,
      "outputs": []
    },
    {
      "cell_type": "markdown",
      "metadata": {
        "id": "ajPS9TwVtka2"
      },
      "source": [
        "# Display some sample dog pictures, corresponding breed labels, and predicted breed labels"
      ]
    },
    {
      "cell_type": "code",
      "metadata": {
        "id": "2_M9kBMIeK7p"
      },
      "source": [
        "def split_breed_name(name):\n",
        "    name = name.split('-')[1].split('_')\n",
        "    name = ' '.join(name)\n",
        "    return name.title()\n",
        "\n",
        "def display_breed_pred(index, save_fig=False):\n",
        "    \n",
        "    dog = list(test_data.as_numpy_iterator())[index]\n",
        "\n",
        "    image, _ = preprocess(dog)\n",
        "    image_reshape = tf.expand_dims(image, 0)\n",
        "\n",
        "    predict_breed = model(image_reshape)\n",
        "    top_components = tf.reshape(tf.math.top_k(predict_breed, k=3).indices,shape=[-1])\n",
        "\n",
        "    top_breeds = [breed_name(i) for i in top_components]\n",
        "\n",
        "    actual_breed = split_breed_name(breed_name(dog['label']))\n",
        "    pred_breed = list(map(split_breed_name, top_breeds))[0]\n",
        "\n",
        "    plt.figure()\n",
        "    plt.imshow(dog['image'])\n",
        "    plt.title(f\"Predicted: {pred_breed}, Actual: {actual_breed}\")\n",
        "\n",
        "    ax = plt.gca()\n",
        "    ax.axes.xaxis.set_visible(False)\n",
        "    ax.axes.yaxis.set_visible(False)\n",
        "    \n",
        "    plt.tight_layout()\n",
        "    \n",
        "    if save_fig:\n",
        "      plt.savefig(f'predicted_dog_breed_{index}.png', dpi=200)\n",
        "      files.download(f'predicted_dog_breed_{index}.png')\n",
        "    \n",
        "    plt.close()\n",
        "    "
      ],
      "execution_count": null,
      "outputs": []
    },
    {
      "cell_type": "code",
      "metadata": {
        "id": "E6fHKm3GeK1M"
      },
      "source": [
        "for i in list(np.random.choice(range(len(test_data)), size=10)):\n",
        "    display_breed_pred(i, save_fig=save_final)\n"
      ],
      "execution_count": null,
      "outputs": []
    },
    {
      "cell_type": "code",
      "metadata": {
        "id": "TWNBeM7MHyVT"
      },
      "source": [
        "files.download('/content/drive/MyDrive/dog_breed_classifier_epoch_history.csv')\n",
        "files.download('/content/drive/MyDrive/dog_breed_classifier.h5')\n"
      ],
      "execution_count": null,
      "outputs": []
    },
    {
      "cell_type": "code",
      "metadata": {
        "id": "_Enbqt6650P1"
      },
      "source": [
        "with open('breed_name.csv','w', newline='') as f:\n",
        "    for item in info.features['label'].names:\n",
        "        f.write(\"%s\\n\" % item)\n",
        "\n",
        "files.download('breed_name.csv')\n"
      ],
      "execution_count": null,
      "outputs": []
    },
    {
      "cell_type": "code",
      "metadata": {
        "id": "M8ccqIgC6JP4"
      },
      "source": [
        ""
      ],
      "execution_count": null,
      "outputs": []
    }
  ]
}